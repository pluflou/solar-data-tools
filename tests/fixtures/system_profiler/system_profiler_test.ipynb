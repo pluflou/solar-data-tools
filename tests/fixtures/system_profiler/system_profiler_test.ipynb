{
 "cells": [
  {
   "cell_type": "code",
   "execution_count": 1,
   "id": "25f89756",
   "metadata": {},
   "outputs": [],
   "source": [
    "import os\n",
    "import pandas as pd\n",
    "from pathlib import Path\n",
    "import seaborn as sns\n",
    "import numpy as np\n",
    "# PVInsight Code Imports\n",
    "from solardatatools import DataHandler\n",
    "from solardatatools.dataio import get_pvdaq_data"
   ]
  },
  {
   "cell_type": "code",
   "execution_count": 2,
   "id": "8e4e1657",
   "metadata": {},
   "outputs": [
    {
     "name": "stdout",
     "output_type": "stream",
     "text": [
      "CAUTION: Multiple scan rates detected!=======================] 100.0% ...queries complete in 24.6 seconds       \n",
      "Scan rates (in seconds): [300, 280]\n",
      "0 transitions detected.\n",
      "Suggest splitting data set between:\n",
      "\n",
      "\n"
     ]
    }
   ],
   "source": [
    "data_frame = get_pvdaq_data(sysid=1199, year=[2015, 2016, 2017], api_key='DEMO_KEY')"
   ]
  },
  {
   "cell_type": "code",
   "execution_count": 3,
   "id": "29c48c75",
   "metadata": {},
   "outputs": [],
   "source": [
    "data_frame[0].to_csv('./data_handler_input.csv')"
   ]
  },
  {
   "cell_type": "code",
   "execution_count": 4,
   "id": "928143c9",
   "metadata": {},
   "outputs": [],
   "source": [
    "dh = DataHandler(data_frame[0])\n",
    "dh.fix_dst()"
   ]
  },
  {
   "cell_type": "code",
   "execution_count": 5,
   "id": "dc869f74",
   "metadata": {},
   "outputs": [
    {
     "name": "stdout",
     "output_type": "stream",
     "text": [
      "total time: 7.20 seconds\n",
      "--------------------------------\n",
      "Breakdown\n",
      "--------------------------------\n",
      "Preprocessing              2.58s\n",
      "Cleaning                   0.13s\n",
      "Filtering/Summarizing      4.48s\n",
      "    Data quality           0.21s\n",
      "    Clear day detect       0.14s\n",
      "    Clipping detect        3.52s\n",
      "    Capacity change detect 0.63s\n",
      "\n"
     ]
    }
   ],
   "source": [
    "dh.run_pipeline(power_col='ac_power', fix_shifts=False, correct_tz=False)"
   ]
  },
  {
   "cell_type": "code",
   "execution_count": 6,
   "id": "8f726246",
   "metadata": {},
   "outputs": [],
   "source": [
    "dh.plot_heatmap('filled');"
   ]
  },
  {
   "cell_type": "code",
   "execution_count": 7,
   "id": "7663bece",
   "metadata": {},
   "outputs": [],
   "source": [
    "dh.setup_location_and_orientation_estimation(-5)"
   ]
  },
  {
   "cell_type": "code",
   "execution_count": 8,
   "id": "7d99d6c5",
   "metadata": {},
   "outputs": [
    {
     "data": {
      "text/plain": [
       "39.47786758991123"
      ]
     },
     "execution_count": 8,
     "metadata": {},
     "output_type": "execute_result"
    }
   ],
   "source": [
    "dh.estimate_latitude()"
   ]
  },
  {
   "cell_type": "code",
   "execution_count": 9,
   "id": "46786552",
   "metadata": {},
   "outputs": [
    {
     "data": {
      "text/plain": [
       "-77.0214902458127"
      ]
     },
     "execution_count": 9,
     "metadata": {},
     "output_type": "execute_result"
    }
   ],
   "source": [
    "dh.estimate_longitude()"
   ]
  },
  {
   "cell_type": "code",
   "execution_count": 10,
   "id": "cd17c244",
   "metadata": {},
   "outputs": [
    {
     "data": {
      "text/plain": [
       "(37.83494284966502, -0.9222650866464227)"
      ]
     },
     "execution_count": 10,
     "metadata": {},
     "output_type": "execute_result"
    }
   ],
   "source": [
    "# actual site location \n",
    "lat_actual = 39.4856\n",
    "lon_actual = -76.6636\n",
    "dh.estimate_orientation(latitude=lat_actual, longitude=lon_actual)"
   ]
  },
  {
   "cell_type": "code",
   "execution_count": 11,
   "id": "63a3b49c",
   "metadata": {},
   "outputs": [
    {
     "data": {
      "text/plain": [
       "(37.83486559804306, -1.5111252255025032)"
      ]
     },
     "execution_count": 11,
     "metadata": {},
     "output_type": "execute_result"
    }
   ],
   "source": [
    "dh.estimate_orientation()"
   ]
  },
  {
   "cell_type": "code",
   "execution_count": null,
   "id": "ab379a03",
   "metadata": {},
   "outputs": [],
   "source": [
    "dh.estimate_location_and_orientation()"
   ]
  }
 ],
 "metadata": {
  "kernelspec": {
   "display_name": "Python 3",
   "language": "python",
   "name": "python3"
  },
  "language_info": {
   "codemirror_mode": {
    "name": "ipython",
    "version": 3
   },
   "file_extension": ".py",
   "mimetype": "text/x-python",
   "name": "python",
   "nbconvert_exporter": "python",
   "pygments_lexer": "ipython3",
   "version": "3.7.6"
  }
 },
 "nbformat": 4,
 "nbformat_minor": 5
}
