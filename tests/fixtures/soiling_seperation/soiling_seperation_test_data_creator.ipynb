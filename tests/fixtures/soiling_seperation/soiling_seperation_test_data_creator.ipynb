{
 "cells": [
  {
   "cell_type": "markdown",
   "id": "d558d65c",
   "metadata": {},
   "source": [
    "# WIP - will be fixed once soiling is updated"
   ]
  },
  {
   "cell_type": "markdown",
   "id": "specified-arthur",
   "metadata": {},
   "source": [
    "## Data for soiling seperation test produced using this notebook"
   ]
  },
  {
   "cell_type": "markdown",
   "id": "framed-satellite",
   "metadata": {},
   "source": [
    "### Code from [TAC2_scratchbook.ipynb](https://github.com/slacgismo/solar-data-tools/blob/master/notebooks/TAC2_scratchwork.ipynb) in example notebooks folder"
   ]
  },
  {
   "cell_type": "code",
   "execution_count": 1,
   "id": "respected-advisory",
   "metadata": {},
   "outputs": [],
   "source": [
    "import numpy as np\n",
    "import matplotlib.pyplot as plt\n",
    "import seaborn as sns\n",
    "# PVInsight Code Imports\n",
    "from solardatatools import DataHandler\n",
    "from solardatatools.dataio import get_pvdaq_data\n",
    "from solardatatools.soiling import soiling_seperation_algorithm"
   ]
  },
  {
   "cell_type": "code",
   "execution_count": 2,
   "id": "standing-namibia",
   "metadata": {},
   "outputs": [
    {
     "name": "stdout",
     "output_type": "stream",
     "text": [
      "CAUTION: Multiple scan rates detected!=======================] 100.0% ...queries complete in 23.2 seconds       \n",
      "Scan rates (in seconds): [300, 280]\n",
      "0 transitions detected.\n",
      "Suggest splitting data set between:\n",
      "\n",
      "\n"
     ]
    }
   ],
   "source": [
    "data_frame = get_pvdaq_data(sysid=1199, year=[2015, 2016, 2017], api_key='DEMO_KEY')"
   ]
  },
  {
   "cell_type": "code",
   "execution_count": 3,
   "id": "fixed-dance",
   "metadata": {},
   "outputs": [],
   "source": [
    "data_frame.loc['2017-06-01':] = data_frame.loc['2017-06-01':] * 0.75"
   ]
  },
  {
   "cell_type": "code",
   "execution_count": 4,
   "id": "smart-compiler",
   "metadata": {},
   "outputs": [],
   "source": [
    "dh = DataHandler(data_frame)"
   ]
  },
  {
   "cell_type": "code",
   "execution_count": 5,
   "id": "lucky-adams",
   "metadata": {},
   "outputs": [
    {
     "name": "stdout",
     "output_type": "stream",
     "text": [
      "total time: 16.71 seconds\n",
      "--------------------------------\n",
      "Breakdown\n",
      "--------------------------------\n",
      "Preprocessing              7.09s\n",
      "Cleaning                   8.11s\n",
      "Filtering/Summarizing      1.51s\n",
      "    Data quality           0.21s\n",
      "    Clear day detect       0.20s\n",
      "    Clipping detect        0.24s\n",
      "    Capacity change detect 0.85s\n",
      "\n"
     ]
    }
   ],
   "source": [
    "dh.run_pipeline(power_col='ac_power')"
   ]
  },
  {
   "cell_type": "code",
   "execution_count": 6,
   "id": "meaning-tractor",
   "metadata": {},
   "outputs": [],
   "source": [
    "bix = dh.daily_flags.clear"
   ]
  },
  {
   "cell_type": "code",
   "execution_count": 7,
   "id": "surrounded-thing",
   "metadata": {},
   "outputs": [
    {
     "name": "stderr",
     "output_type": "stream",
     "text": [
      "/Users/derins/opt/anaconda3/envs/pvi-user/lib/python3.7/site-packages/cvxpy/expressions/expression.py:516: UserWarning: \n",
      "This use of ``*`` has resulted in matrix multiplication.\n",
      "Using ``*`` for matrix multiplication has been deprecated since CVXPY 1.1.\n",
      "    Use ``*`` for matrix-scalar and vector-scalar multiplication.\n",
      "    Use ``@`` for matrix-matrix and matrix-vector multiplication.\n",
      "    Use ``multiply`` for elementwise multiplication.\n",
      "\n",
      "  warnings.warn(__STAR_MATMUL_WARNING__, UserWarning)\n",
      "/Users/derins/opt/anaconda3/envs/pvi-user/lib/python3.7/site-packages/cvxpy/expressions/expression.py:516: UserWarning: \n",
      "This use of ``*`` has resulted in matrix multiplication.\n",
      "Using ``*`` for matrix multiplication has been deprecated since CVXPY 1.1.\n",
      "    Use ``*`` for matrix-scalar and vector-scalar multiplication.\n",
      "    Use ``@`` for matrix-matrix and matrix-vector multiplication.\n",
      "    Use ``multiply`` for elementwise multiplication.\n",
      "\n",
      "  warnings.warn(__STAR_MATMUL_WARNING__, UserWarning)\n",
      "/Users/derins/opt/anaconda3/envs/pvi-user/lib/python3.7/site-packages/cvxpy/reductions/solvers/solving_chain.py:163: UserWarning: You are solving a parameterized problem that is not DPP. Because the problem is not DPP, subsequent solves will not be faster than the first one. For more information, see the documentation on Discplined Parametrized Programming, at\n",
      "\thttps://www.cvxpy.org/tutorial/advanced/index.html#disciplined-parametrized-programming\n",
      "  warnings.warn(dpp_error_msg)\n"
     ]
    },
    {
     "name": "stdout",
     "output_type": "stream",
     "text": [
      "----------------------\n",
      "SCSF Problem Setup\n",
      "----------------------\n",
      "Matrix Size: 288 x 1096 = 315648 power measurements\n",
      "Sparsity: 91.57%\n",
      "26616 non-zero measurements under clear conditions\n",
      "Model size: 288 x 6 + 6 x 1096 = 8304 parameters\n",
      "\n",
      "\n",
      "----------------------\n",
      "Algorithm Iterations\n",
      "----------------------\n",
      "Starting at Objective: 9.388e+09, f1: 1.452e+07, f2: 1.722e+02, f3: 7.521e+09, f4: 1.853e+09\n",
      "    Minimizing left matrix\n",
      "    Minimizing right matrix\n"
     ]
    },
    {
     "name": "stderr",
     "output_type": "stream",
     "text": [
      "/Users/derins/opt/anaconda3/envs/pvi-user/lib/python3.7/site-packages/cvxpy/expressions/expression.py:516: UserWarning: \n",
      "This use of ``*`` has resulted in matrix multiplication.\n",
      "Using ``*`` for matrix multiplication has been deprecated since CVXPY 1.1.\n",
      "    Use ``*`` for matrix-scalar and vector-scalar multiplication.\n",
      "    Use ``@`` for matrix-matrix and matrix-vector multiplication.\n",
      "    Use ``multiply`` for elementwise multiplication.\n",
      "\n",
      "  warnings.warn(__STAR_MATMUL_WARNING__, UserWarning)\n"
     ]
    },
    {
     "name": "stdout",
     "output_type": "stream",
     "text": [
      "1 - Objective: 1.940e+07, f1: 1.675e+07, f2: 6.274e+02, f3: 2.642e+06, f4: 7.593e-02\n",
      "Caution: residuals increased\n",
      "    Minimizing left matrix\n",
      "    Minimizing right matrix\n"
     ]
    },
    {
     "name": "stderr",
     "output_type": "stream",
     "text": [
      "/Users/derins/opt/anaconda3/envs/pvi-user/lib/python3.7/site-packages/cvxpy/expressions/expression.py:516: UserWarning: \n",
      "This use of ``*`` has resulted in matrix multiplication.\n",
      "Using ``*`` for matrix multiplication has been deprecated since CVXPY 1.1.\n",
      "    Use ``*`` for matrix-scalar and vector-scalar multiplication.\n",
      "    Use ``@`` for matrix-matrix and matrix-vector multiplication.\n",
      "    Use ``multiply`` for elementwise multiplication.\n",
      "\n",
      "  warnings.warn(__STAR_MATMUL_WARNING__, UserWarning)\n"
     ]
    },
    {
     "name": "stdout",
     "output_type": "stream",
     "text": [
      "2 - Objective: 1.767e+07, f1: 1.507e+07, f2: 8.496e+02, f3: 2.605e+06, f4: 1.826e-04\n",
      "Caution: residuals increased\n",
      "    Minimizing left matrix\n",
      "    Minimizing right matrix\n"
     ]
    },
    {
     "name": "stderr",
     "output_type": "stream",
     "text": [
      "/Users/derins/opt/anaconda3/envs/pvi-user/lib/python3.7/site-packages/cvxpy/expressions/expression.py:516: UserWarning: \n",
      "This use of ``*`` has resulted in matrix multiplication.\n",
      "Using ``*`` for matrix multiplication has been deprecated since CVXPY 1.1.\n",
      "    Use ``*`` for matrix-scalar and vector-scalar multiplication.\n",
      "    Use ``@`` for matrix-matrix and matrix-vector multiplication.\n",
      "    Use ``multiply`` for elementwise multiplication.\n",
      "\n",
      "  warnings.warn(__STAR_MATMUL_WARNING__, UserWarning)\n"
     ]
    },
    {
     "name": "stdout",
     "output_type": "stream",
     "text": [
      "3 - Objective: 1.736e+07, f1: 1.482e+07, f2: 6.785e+02, f3: 2.535e+06, f4: 1.920e-05\n",
      "Caution: residuals increased\n",
      "    Minimizing left matrix\n",
      "    Minimizing right matrix\n"
     ]
    },
    {
     "name": "stderr",
     "output_type": "stream",
     "text": [
      "/Users/derins/opt/anaconda3/envs/pvi-user/lib/python3.7/site-packages/cvxpy/expressions/expression.py:516: UserWarning: \n",
      "This use of ``*`` has resulted in matrix multiplication.\n",
      "Using ``*`` for matrix multiplication has been deprecated since CVXPY 1.1.\n",
      "    Use ``*`` for matrix-scalar and vector-scalar multiplication.\n",
      "    Use ``@`` for matrix-matrix and matrix-vector multiplication.\n",
      "    Use ``multiply`` for elementwise multiplication.\n",
      "\n",
      "  warnings.warn(__STAR_MATMUL_WARNING__, UserWarning)\n"
     ]
    },
    {
     "name": "stdout",
     "output_type": "stream",
     "text": [
      "4 - Objective: 1.721e+07, f1: 1.474e+07, f2: 7.530e+02, f3: 2.471e+06, f4: 3.024e-06\n",
      "Caution: residuals increased\n",
      "    Minimizing left matrix\n",
      "    Minimizing right matrix\n"
     ]
    },
    {
     "name": "stderr",
     "output_type": "stream",
     "text": [
      "/Users/derins/opt/anaconda3/envs/pvi-user/lib/python3.7/site-packages/cvxpy/expressions/expression.py:516: UserWarning: \n",
      "This use of ``*`` has resulted in matrix multiplication.\n",
      "Using ``*`` for matrix multiplication has been deprecated since CVXPY 1.1.\n",
      "    Use ``*`` for matrix-scalar and vector-scalar multiplication.\n",
      "    Use ``@`` for matrix-matrix and matrix-vector multiplication.\n",
      "    Use ``multiply`` for elementwise multiplication.\n",
      "\n",
      "  warnings.warn(__STAR_MATMUL_WARNING__, UserWarning)\n"
     ]
    },
    {
     "name": "stdout",
     "output_type": "stream",
     "text": [
      "5 - Objective: 1.710e+07, f1: 1.469e+07, f2: 7.293e+02, f3: 2.410e+06, f4: 4.305e-06\n",
      "Caution: residuals increased\n",
      "    Minimizing left matrix\n",
      "    Minimizing right matrix\n"
     ]
    },
    {
     "name": "stderr",
     "output_type": "stream",
     "text": [
      "/Users/derins/opt/anaconda3/envs/pvi-user/lib/python3.7/site-packages/cvxpy/expressions/expression.py:516: UserWarning: \n",
      "This use of ``*`` has resulted in matrix multiplication.\n",
      "Using ``*`` for matrix multiplication has been deprecated since CVXPY 1.1.\n",
      "    Use ``*`` for matrix-scalar and vector-scalar multiplication.\n",
      "    Use ``@`` for matrix-matrix and matrix-vector multiplication.\n",
      "    Use ``multiply`` for elementwise multiplication.\n",
      "\n",
      "  warnings.warn(__STAR_MATMUL_WARNING__, UserWarning)\n"
     ]
    },
    {
     "name": "stdout",
     "output_type": "stream",
     "text": [
      "6 - Objective: 1.701e+07, f1: 1.465e+07, f2: 7.021e+02, f3: 2.354e+06, f4: 5.008e-07\n",
      "Caution: residuals increased\n",
      "    Minimizing left matrix\n",
      "    Minimizing right matrix\n"
     ]
    },
    {
     "name": "stderr",
     "output_type": "stream",
     "text": [
      "/Users/derins/opt/anaconda3/envs/pvi-user/lib/python3.7/site-packages/cvxpy/expressions/expression.py:516: UserWarning: \n",
      "This use of ``*`` has resulted in matrix multiplication.\n",
      "Using ``*`` for matrix multiplication has been deprecated since CVXPY 1.1.\n",
      "    Use ``*`` for matrix-scalar and vector-scalar multiplication.\n",
      "    Use ``@`` for matrix-matrix and matrix-vector multiplication.\n",
      "    Use ``multiply`` for elementwise multiplication.\n",
      "\n",
      "  warnings.warn(__STAR_MATMUL_WARNING__, UserWarning)\n"
     ]
    },
    {
     "name": "stdout",
     "output_type": "stream",
     "text": [
      "7 - Objective: 1.693e+07, f1: 1.462e+07, f2: 6.849e+02, f3: 2.310e+06, f4: 1.637e-06\n",
      "Caution: residuals increased\n",
      "    Minimizing left matrix\n",
      "    Minimizing right matrix\n"
     ]
    },
    {
     "name": "stderr",
     "output_type": "stream",
     "text": [
      "/Users/derins/opt/anaconda3/envs/pvi-user/lib/python3.7/site-packages/cvxpy/expressions/expression.py:516: UserWarning: \n",
      "This use of ``*`` has resulted in matrix multiplication.\n",
      "Using ``*`` for matrix multiplication has been deprecated since CVXPY 1.1.\n",
      "    Use ``*`` for matrix-scalar and vector-scalar multiplication.\n",
      "    Use ``@`` for matrix-matrix and matrix-vector multiplication.\n",
      "    Use ``multiply`` for elementwise multiplication.\n",
      "\n",
      "  warnings.warn(__STAR_MATMUL_WARNING__, UserWarning)\n"
     ]
    },
    {
     "name": "stdout",
     "output_type": "stream",
     "text": [
      "8 - Objective: 1.686e+07, f1: 1.458e+07, f2: 7.043e+02, f3: 2.278e+06, f4: 1.171e-05\n",
      "Caution: residuals increased\n",
      "    Minimizing left matrix\n",
      "    Minimizing right matrix\n"
     ]
    },
    {
     "name": "stderr",
     "output_type": "stream",
     "text": [
      "/Users/derins/opt/anaconda3/envs/pvi-user/lib/python3.7/site-packages/cvxpy/expressions/expression.py:516: UserWarning: \n",
      "This use of ``*`` has resulted in matrix multiplication.\n",
      "Using ``*`` for matrix multiplication has been deprecated since CVXPY 1.1.\n",
      "    Use ``*`` for matrix-scalar and vector-scalar multiplication.\n",
      "    Use ``@`` for matrix-matrix and matrix-vector multiplication.\n",
      "    Use ``multiply`` for elementwise multiplication.\n",
      "\n",
      "  warnings.warn(__STAR_MATMUL_WARNING__, UserWarning)\n"
     ]
    },
    {
     "name": "stdout",
     "output_type": "stream",
     "text": [
      "9 - Objective: 1.680e+07, f1: 1.455e+07, f2: 7.277e+02, f3: 2.249e+06, f4: 2.448e-06\n",
      "Caution: residuals increased\n",
      "    Minimizing left matrix\n",
      "    Minimizing right matrix\n",
      "10 - Objective: 1.675e+07, f1: 1.453e+07, f2: 7.770e+02, f3: 2.218e+06, f4: 2.321e-07\n",
      "Caution: residuals increased\n",
      "Reached iteration limit. Previous improvement: 0.29%\n",
      "Minimization complete in 5.09 minutes\n"
     ]
    },
    {
     "name": "stderr",
     "output_type": "stream",
     "text": [
      "/Users/derins/opt/anaconda3/envs/pvi-user/lib/python3.7/site-packages/cvxpy/expressions/expression.py:516: UserWarning: \n",
      "This use of ``*`` has resulted in matrix multiplication.\n",
      "Using ``*`` for matrix multiplication has been deprecated since CVXPY 1.1.\n",
      "    Use ``*`` for matrix-scalar and vector-scalar multiplication.\n",
      "    Use ``@`` for matrix-matrix and matrix-vector multiplication.\n",
      "    Use ``multiply`` for elementwise multiplication.\n",
      "\n",
      "  warnings.warn(__STAR_MATMUL_WARNING__, UserWarning)\n"
     ]
    }
   ],
   "source": [
    "dh.fit_statistical_clear_sky_model()"
   ]
  },
  {
   "cell_type": "code",
   "execution_count": 8,
   "id": "exempt-basketball",
   "metadata": {},
   "outputs": [
    {
     "name": "stderr",
     "output_type": "stream",
     "text": [
      "/Users/derins/opt/anaconda3/envs/pvi-user/lib/python3.7/site-packages/ipykernel/ipkernel.py:283: DeprecationWarning: `should_run_async` will not call `transform_cell` automatically in the future. Please pass the result to `transformed_cell` argument and any exception that happen during thetransform in `preprocessing_exc_tuple` in IPython 7.17 and above.\n",
      "  and should_run_async(code)\n"
     ]
    }
   ],
   "source": [
    "pi = np.sum(dh.filled_data_matrix, axis=0) / np.sum(dh.scsf.clear_sky_signals(), axis=0)"
   ]
  },
  {
   "cell_type": "markdown",
   "id": "operational-arkansas",
   "metadata": {},
   "source": [
    "### Saves the input variables to csv"
   ]
  },
  {
   "cell_type": "code",
   "execution_count": 9,
   "id": "legendary-hebrew",
   "metadata": {},
   "outputs": [],
   "source": [
    "np.savetxt('./bix_soiling_seperation_input.csv', bix, delimiter=',')\n",
    "np.savetxt('./pi_soiling_seperation_input.csv', pi, delimiter=',')"
   ]
  },
  {
   "cell_type": "markdown",
   "id": "selected-ethics",
   "metadata": {},
   "source": [
    "### Saves the outputs tp csv"
   ]
  },
  {
   "cell_type": "code",
   "execution_count": 10,
   "id": "personal-vitamin",
   "metadata": {},
   "outputs": [],
   "source": [
    "s1, s2, s3 = soiling_seperation_algorithm(pi, index_set=bix, iterations=1)"
   ]
  },
  {
   "cell_type": "code",
   "execution_count": 11,
   "id": "independent-cooperation",
   "metadata": {},
   "outputs": [],
   "source": [
    "np.savetxt('./s1_soiling_seperation_output.csv', s1, delimiter=',')\n",
    "np.savetxt('./s2_soiling_seperation_output.csv', s2, delimiter=',')\n",
    "np.savetxt('./s3_soiling_seperation_output.csv', s3, delimiter=',')"
   ]
  }
 ],
 "metadata": {
  "kernelspec": {
   "display_name": "Python 3",
   "language": "python",
   "name": "python3"
  },
  "language_info": {
   "codemirror_mode": {
    "name": "ipython",
    "version": 3
   },
   "file_extension": ".py",
   "mimetype": "text/x-python",
   "name": "python",
   "nbconvert_exporter": "python",
   "pygments_lexer": "ipython3",
   "version": "3.7.6"
  }
 },
 "nbformat": 4,
 "nbformat_minor": 5
}
