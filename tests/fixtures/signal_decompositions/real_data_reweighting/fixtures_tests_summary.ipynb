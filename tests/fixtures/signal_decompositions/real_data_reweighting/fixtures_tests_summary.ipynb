{
 "cells": [
  {
   "cell_type": "markdown",
   "id": "47962e4f-fd7c-41fd-8274-3a4947462fbc",
   "metadata": {},
   "source": [
    "# Fixtures data for reweighting SDT functions after moving to SumSquares\n",
    "#### Relevant functions: all except `make_l2_l1d2_constrained`\n",
    "\n",
    "1. get current top-level weights/decompositions of current implemented SD using fixtures data\n",
    "2. run weight optimization with new formulation with sum_squares, minimizing difference from above (current decompositions)\n",
    "3. update top-levels test weights\n",
    "4. repeat above to update top-level weights for all SDT functions \n",
    "    1. need real data corresponding for each function\n",
    "    \n",
    "Fixtures/tests for these experiments:\n",
    "\n",
    "- [X] l2_l1d1_l2d2p365: test_fix_time_shifts.py (new weight goes in time_shifts.py ln 48)\n",
    "- [X] l1_l2d2p365: test_clear_day_detection.py (also in test_utilities.py, using default args. New weight goes in defaultand clear_day_detection.py ln 14 (but might be obsolete there)\n",
    "- [X] tl1_l2d2p365: test_clear_day_detection.py\n",
    "- [ ] tl1_l1d1_l2d2p365: maybe test_data_handler.py (not explicit. see capacity_change.py)"
   ]
  },
  {
   "cell_type": "markdown",
   "id": "9e3203b7-55ba-459f-8e0f-39bfe3e6185a",
   "metadata": {
    "jp-MarkdownHeadingCollapsed": true,
    "tags": []
   },
   "source": [
    "#### Use cases\n",
    "\n",
    "- **l2_l1d1_l2d2p365**:\n",
    "    - time_shifts.py, c1 optimized, c2=200\n",
    "      \n",
    "- ~~**l1_l2d2p365**:~~\n",
    "    ~~- clear_day_detection.py (should be obsolete), c1=1e3~~\n",
    "\n",
    "- **tl1_l2d2p365**:\n",
    "    - sunrise_sunset_estimation.py, 2 calls: tau=0.05 and tau=0.95\n",
    "     - clear_day_detection.py, 2 calls: tau=0.9, c1=1e3, periodic=False\n",
    "     - data_quality.py, tau=0.85\n",
    "     - sunrise_sunset.py,  2 calls: tau=0.05 and tau=0.95\n",
    "     - **add daily sparsity in  clear_day_detection.py**\n",
    "\n",
    "- **tl1_l1d1_l2d2p365**:\n",
    "    - capacity_change.py (only for plotting?), tau=0.5, c1=15, c2=100, c3=300"
   ]
  },
  {
   "cell_type": "markdown",
   "id": "363a98c9-52e6-423c-ae0d-fffd1892e1cd",
   "metadata": {},
   "source": [
    "## Results for cvxpy.norm (old) to cvxpy.sum_squares (new)"
   ]
  },
  {
   "cell_type": "markdown",
   "id": "b9ed370d-10a4-4bf0-9e68-3768f76185e9",
   "metadata": {},
   "source": [
    "| Function          | old/new residual weight | old/new class 1 weight | old/new class 2 weight |\n",
    "| -------------     | ---------------         | --------------         | --------------         |\n",
    "|(1) l2_l1d1_l2d2p365  |  10 / 10 (hard-coded)   |  optimized (est. 6 / 6)|  **200 / ~~26327.41~~ (UPDATE)**    |\n",
    "|~~(2) l1_l2d2p365~~       |                         |~~**1e3 / 1043199 **~~ |                        |\n",
    "|(3) tl1_l2d2p365 (tc) |                         | **1e3 /  3352924**    |                        |\n",
    "|(3) tl1_l2d2p365 (de) |                         | **1e3 /  204697**     |                        |\n",
    "|(4) tl1_l1d1_l2d2p365 |                         |                        |                        |\n"
   ]
  },
  {
   "cell_type": "code",
   "execution_count": null,
   "id": "dc8b45e3-9e59-4b88-9f0e-3f0bbd1d3e04",
   "metadata": {},
   "outputs": [],
   "source": []
  }
 ],
 "metadata": {
  "kernelspec": {
   "display_name": "Python 3 (ipykernel)",
   "language": "python",
   "name": "python3"
  },
  "language_info": {
   "codemirror_mode": {
    "name": "ipython",
    "version": 3
   },
   "file_extension": ".py",
   "mimetype": "text/x-python",
   "name": "python",
   "nbconvert_exporter": "python",
   "pygments_lexer": "ipython3",
   "version": "3.10.11"
  }
 },
 "nbformat": 4,
 "nbformat_minor": 5
}
