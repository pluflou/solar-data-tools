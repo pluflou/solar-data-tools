{
 "cells": [
  {
   "cell_type": "markdown",
   "id": "74839109-404b-4cd7-920f-bc2cea853932",
   "metadata": {},
   "source": [
    "# clear day detection / sunrise sunset failures w/ OSQP + sum squares with new weights"
   ]
  },
  {
   "cell_type": "code",
   "execution_count": 20,
   "id": "5ae0317f-dfef-424f-b56e-54980e7d1530",
   "metadata": {},
   "outputs": [],
   "source": [
    "import pandas as pd\n",
    "import numpy as np\n",
    "from solardatatools.data_handler import DataHandler\n",
    "import warnings\n",
    "warnings.filterwarnings('ignore')"
   ]
  },
  {
   "cell_type": "code",
   "execution_count": 21,
   "id": "4ba190c3-d7f7-47a5-9d24-6f40906837fc",
   "metadata": {},
   "outputs": [
    {
     "name": "stdout",
     "output_type": "stream",
     "text": [
      "The autoreload extension is already loaded. To reload it, use:\n",
      "  %reload_ext autoreload\n"
     ]
    }
   ],
   "source": [
    "%load_ext autoreload\n",
    "%autoreload 2"
   ]
  },
  {
   "cell_type": "code",
   "execution_count": 22,
   "id": "9c916a9a-1d5c-444e-b5fb-c20c892b47d3",
   "metadata": {},
   "outputs": [],
   "source": [
    "datasets_fail = [\"./real_data_tests_l2_norm_state/cassandra/TAAI01129193.csv\",\n",
    "                 \"./real_data_tests_l2_norm_state/cassandra/TACIC1066981.csv\"]"
   ]
  },
  {
   "cell_type": "markdown",
   "id": "846207a6-9ee6-4972-8a9b-a8a5ad031e3c",
   "metadata": {},
   "source": [
    "# reproducing problem: \n",
    "### data_handler.py, line 984\n",
    "### clear_day_detection.py, line 54"
   ]
  },
  {
   "cell_type": "markdown",
   "id": "c117e53d-6834-42ab-a1fd-9797b815a11e",
   "metadata": {},
   "source": [
    "3000000\n",
    "3e6\n"
   ]
  },
  {
   "cell_type": "code",
   "execution_count": 33,
   "id": "8e66abbe-4260-4b9d-aa8d-a3fed7040d1a",
   "metadata": {},
   "outputs": [
    {
     "name": "stdout",
     "output_type": "stream",
     "text": [
      "total time: 25.78 seconds\n",
      "--------------------------------\n",
      "Breakdown\n",
      "--------------------------------\n",
      "Preprocessing              9.44s\n",
      "Cleaning                   0.50s\n",
      "Filtering/Summarizing      15.83s\n",
      "    Data quality           0.44s\n",
      "    Clear day detect       2.09s\n",
      "    Clipping detect        0.13s\n",
      "    Capacity change detect 13.17s\n",
      "\n"
     ]
    }
   ],
   "source": [
    "fname = datasets_fail[0]\n",
    "df = pd.read_csv(fname)\n",
    "data = df[\"meas_val_f\"] \n",
    "dh = DataHandler(df, convert_to_ts=True)\n",
    "dh.run_pipeline(verbose=True)#, solver=\"MOSEK\")"
   ]
  },
  {
   "cell_type": "code",
   "execution_count": 32,
   "id": "5a6832ad-4f22-40d0-8f4e-9925a53ec5ee",
   "metadata": {},
   "outputs": [
    {
     "name": "stdout",
     "output_type": "stream",
     "text": [
      "total time: 17.98 seconds\n",
      "--------------------------------\n",
      "Breakdown\n",
      "--------------------------------\n",
      "Preprocessing              6.56s\n",
      "Cleaning                   0.33s\n",
      "Filtering/Summarizing      11.09s\n",
      "    Data quality           0.33s\n",
      "    Clear day detect       1.62s\n",
      "    Clipping detect        0.10s\n",
      "    Capacity change detect 9.03s\n",
      "\n"
     ]
    }
   ],
   "source": [
    "fname = datasets_fail[1]\n",
    "df = pd.read_csv(fname)\n",
    "data = df[\"meas_val_f\"] \n",
    "dh = DataHandler(df, convert_to_ts=True)\n",
    "dh.run_pipeline(verbose=True)"
   ]
  },
  {
   "cell_type": "code",
   "execution_count": null,
   "id": "038af2e4-3c6c-4469-b971-1d62aa7e86b4",
   "metadata": {},
   "outputs": [],
   "source": []
  }
 ],
 "metadata": {
  "kernelspec": {
   "display_name": "Python 3 (ipykernel)",
   "language": "python",
   "name": "python3"
  },
  "language_info": {
   "codemirror_mode": {
    "name": "ipython",
    "version": 3
   },
   "file_extension": ".py",
   "mimetype": "text/x-python",
   "name": "python",
   "nbconvert_exporter": "python",
   "pygments_lexer": "ipython3",
   "version": "3.10.11"
  }
 },
 "nbformat": 4,
 "nbformat_minor": 5
}
